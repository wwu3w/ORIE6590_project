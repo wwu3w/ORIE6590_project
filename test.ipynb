{
 "cells": [
  {
   "cell_type": "code",
   "execution_count": 1,
   "metadata": {},
   "outputs": [],
   "source": [
    "from ride_hailing.envs.ride_hailing_env import *\n",
    "from evaluate import *"
   ]
  },
  {
   "cell_type": "code",
   "execution_count": 2,
   "metadata": {},
   "outputs": [],
   "source": [
    "# Parameters for initialization\n",
    "R = 5\n",
    "N = 1000 #number of cars\n",
    "H = 360 #length of a working day\n",
    "L = 5 #patience time\n",
    "lambda1 = np.array([1.8,1.8,1.8,1.8,18])\n",
    "lambda2 = np.array([12,8,8,8,2])\n",
    "lambda3 = np.array([2,2,2,22,2])\n",
    "P1 = np.array([[0.6, 0.1, 0.0, 0.3, 0.0],\n",
    "\t          [0.1, 0.6, 0.0, 0.3, 0.0],\n",
    "\t          [0.0, 0.0, 0.7, 0.3, 0.0],\n",
    "\t          [0.2, 0.2, 0.2, 0.2, 0.2],\n",
    "\t          [0.3, 0.3, 0.3, 0.1, 0.0]])\n",
    "P2 = np.array([[0.1, 0.0, 0.0, 0.9, 0.0],\n",
    "\t          [0.0, 0.1, 0.0, 0.9, 0.0],\n",
    "\t          [0.0, 0.0, 0.1, 0.9, 0.0],\n",
    "\t          [0.05, 0.05, 0.05, 0.8, 0.05],\n",
    "\t          [0.0, 0.0, 0.0, 0.9, 0.1]])\n",
    "P3 = np.array([[0.9, 0.05, 0, 0.05, 0],\n",
    "\t          [0.05, 0.9, 0, 0.05, 0],\n",
    "\t          [0, 0, 0.9, 0.1, 0],\n",
    "\t          [0.3, 0.3, 0.3, 0.05, 0.05],\n",
    "\t          [0, 0, 0, 0.1, 0.9]])\n",
    "tau1 = np.array([[9, 15, 75, 12, 24],\n",
    "\t          \t[15, 6, 66, 6, 18],\n",
    "\t          \t[75, 66, 6, 60, 39],\n",
    "\t          \t[15, 9, 60, 9, 15],\n",
    "\t          \t[30, 24, 45, 15, 12]])\n",
    "tau2 = np.array([[9, 15, 75, 12, 24],\n",
    "\t          \t[15, 6, 66, 6, 18],\n",
    "\t          \t[75, 66, 6, 60, 39],\n",
    "\t          \t[12, 6, 60, 9, 15],\n",
    "\t          \t[24, 18, 39, 15, 12]])\n",
    "tau3 = np.array([[9, 15, 75, 12, 24],\n",
    "\t          \t[15, 6, 66, 6, 18],\n",
    "\t          \t[75, 66, 6, 60, 39],\n",
    "\t          \t[12, 6, 60, 9, 15],\n",
    "\t          \t[24, 18, 39, 15, 12]])\n",
    "tau_d = np.max(tau1)\n",
    "c_state = np.zeros((R, tau_d + L))\n",
    "tot_unassigned = N\n",
    "num_empty_cell = R*tau_d\n",
    "for i in range(R):\n",
    "\tfor j in range(tau_d):\n",
    "\t\tc_state[i,j] = int(np.floor(tot_unassigned/(num_empty_cell)))\n",
    "\t\ttot_unassigned -= c_state[i,j]\n",
    "\t\tnum_empty_cell -= 1\n",
    "travel_time = np.zeros((H,R,R))\n",
    "trip_dest_prob = np.zeros((H,R,R))\n",
    "arrival_rate = np.zeros((H,R))\n",
    "for i in range(H):\n",
    "\tif i >= 0 and i <= 120:\n",
    "\t\ttravel_time[i,:,:] = tau1\n",
    "\t\ttrip_dest_prob[i,:,:] = P1\n",
    "\t\tarrival_rate[i,:] = lambda1\n",
    "\telif i >= 121 and i <= 240:\n",
    "\t\ttravel_time[i,:,:] = tau2\n",
    "\t\ttrip_dest_prob[i,:,:] = P2\n",
    "\t\tarrival_rate[i,:] = lambda2\n",
    "\telse:\n",
    "\t\ttravel_time[i,:,:] = tau3\n",
    "\t\ttrip_dest_prob[i,:,:] = P3\n",
    "\t\tarrival_rate[i,:] = lambda3"
   ]
  },
  {
   "cell_type": "code",
   "execution_count": 3,
   "metadata": {},
   "outputs": [],
   "source": [
    "# Initialize the whole environment\n",
    "\n",
    "env = CityReal(R, tau_d, L, H, arrival_rate, trip_dest_prob, travel_time, c_state)\n",
    "\n",
    "\n",
    "state = env.reset()"
   ]
  },
  {
   "cell_type": "code",
   "execution_count": 4,
   "metadata": {},
   "outputs": [],
   "source": [
    "def model(state, env):\n",
    "    return env.action_space.sample()"
   ]
  },
  {
   "cell_type": "code",
   "execution_count": null,
   "metadata": {},
   "outputs": [
    {
     "name": "stdout",
     "output_type": "stream",
     "text": [
      "0 100\n",
      "1 100\n",
      "2 100\n",
      "3 100\n",
      "4 100\n",
      "5 100\n",
      "6 100\n",
      "7 100\n",
      "8 100\n",
      "9 100\n",
      "10 100\n",
      "11 100\n",
      "12 100\n",
      "13 100\n",
      "14 100\n",
      "15 100\n",
      "16 100\n",
      "17 100\n",
      "18 100\n",
      "19 100\n",
      "20 100\n",
      "21 100\n",
      "22 100\n",
      "23 100\n",
      "24 100\n",
      "25 100\n",
      "26 100\n",
      "27 100\n",
      "28 100\n",
      "29 100\n",
      "30 100\n",
      "31 100\n"
     ]
    }
   ],
   "source": [
    "numiters = 100  #iteration number\n",
    "mean_reward, sd_reward = evaluate(model, env, numiters)"
   ]
  },
  {
   "cell_type": "code",
   "execution_count": 6,
   "metadata": {},
   "outputs": [
    {
     "data": {
      "text/plain": [
       "3526.1"
      ]
     },
     "execution_count": 6,
     "metadata": {},
     "output_type": "execute_result"
    }
   ],
   "source": [
    "mean_reward"
   ]
  },
  {
   "cell_type": "code",
   "execution_count": 7,
   "metadata": {},
   "outputs": [
    {
     "data": {
      "text/plain": [
       "53.11205136313788"
      ]
     },
     "execution_count": 7,
     "metadata": {},
     "output_type": "execute_result"
    }
   ],
   "source": [
    "sd_reward"
   ]
  },
  {
   "cell_type": "code",
   "execution_count": null,
   "metadata": {},
   "outputs": [],
   "source": []
  }
 ],
 "metadata": {
  "kernelspec": {
   "display_name": "Python 3",
   "language": "python",
   "name": "python3"
  },
  "language_info": {
   "codemirror_mode": {
    "name": "ipython",
    "version": 3
   },
   "file_extension": ".py",
   "mimetype": "text/x-python",
   "name": "python",
   "nbconvert_exporter": "python",
   "pygments_lexer": "ipython3",
   "version": "3.8.3"
  }
 },
 "nbformat": 4,
 "nbformat_minor": 4
}
